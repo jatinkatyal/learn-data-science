{
 "cells": [
  {
   "cell_type": "markdown",
   "metadata": {},
   "source": [
    "Range of data, difference of maximum and minimum value of data. Generally more the range is, more the spread of data."
   ]
  },
  {
   "cell_type": "code",
   "execution_count": 6,
   "metadata": {},
   "outputs": [],
   "source": [
    "import pandas as pd\n",
    "data = pd.read_csv('Spread of Data.csv')"
   ]
  },
  {
   "cell_type": "code",
   "execution_count": 7,
   "metadata": {},
   "outputs": [
    {
     "name": "stdout",
     "output_type": "stream",
     "text": [
      "9700\n"
     ]
    }
   ],
   "source": [
    "max = data['Overall Marks'].max()\n",
    "min = data['Overall Marks'].min()\n",
    "range = max - min\n",
    "print(range)"
   ]
  },
  {
   "cell_type": "markdown",
   "metadata": {},
   "source": [
    "Inter Quartile Range (IQR), difference of 1st quartile and 3rd quartile."
   ]
  },
  {
   "cell_type": "code",
   "execution_count": 11,
   "metadata": {},
   "outputs": [
    {
     "name": "stdout",
     "output_type": "stream",
     "text": [
      "30.0\n"
     ]
    }
   ],
   "source": [
    "q1 = data['Overall Marks'].quantile(0.25)\n",
    "q3 = data['Overall Marks'].quantile(0.75)\n",
    "iqr = q3 - q1\n",
    "print(iqr)"
   ]
  },
  {
   "cell_type": "markdown",
   "metadata": {},
   "source": [
    "Varriance, average distance of values from the Mean."
   ]
  },
  {
   "cell_type": "code",
   "execution_count": 18,
   "metadata": {},
   "outputs": [
    {
     "name": "stdout",
     "output_type": "stream",
     "text": [
      "919170.8424000001\n"
     ]
    }
   ],
   "source": [
    "mean = data['Overall Marks'].mean()\n",
    "differences = data['Overall Marks'] - mean\n",
    "squared_differences = differences ** 2\n",
    "variance = squared_differences.mean()\n",
    "print(variance)"
   ]
  },
  {
   "cell_type": "code",
   "execution_count": 30,
   "metadata": {},
   "outputs": [
    {
     "name": "stdout",
     "output_type": "stream",
     "text": [
      "919170.8424000001\n"
     ]
    }
   ],
   "source": [
    "# OR\n",
    "variance = data['Overall Marks'].var(ddof = 0)\n",
    "print(variance)"
   ]
  },
  {
   "cell_type": "markdown",
   "metadata": {},
   "source": [
    "Standard Deviavtion, square root of variance. Also tells about data spread."
   ]
  },
  {
   "cell_type": "code",
   "execution_count": 32,
   "metadata": {},
   "outputs": [
    {
     "name": "stdout",
     "output_type": "stream",
     "text": [
      "958.7339789534948\n"
     ]
    }
   ],
   "source": [
    "std = variance ** (1/2)\n",
    "print(std)"
   ]
  },
  {
   "cell_type": "code",
   "execution_count": 33,
   "metadata": {},
   "outputs": [
    {
     "name": "stdout",
     "output_type": "stream",
     "text": [
      "958.7339789534948\n"
     ]
    }
   ],
   "source": [
    "std = data['Overall Marks'].std(ddof=0)\n",
    "print(std)"
   ]
  },
  {
   "cell_type": "code",
   "execution_count": 37,
   "metadata": {},
   "outputs": [
    {
     "name": "stdout",
     "output_type": "stream",
     "text": [
      "         0\n",
      "0    -1.25\n",
      "1   131.75\n",
      "2   -80.25\n",
      "3    73.75\n",
      "4    20.75\n",
      "5    16.75\n",
      "6   -72.25\n",
      "7     1.75\n",
      "8    -0.25\n",
      "9   -68.25\n",
      "10  -10.25\n",
      "11  -16.25\n",
      "12  136.75\n",
      "13  -36.25\n",
      "14  -50.25\n",
      "15  -36.25\n",
      "16   44.75\n",
      "17  -68.25\n",
      "18   86.75\n",
      "19  -73.25\n"
     ]
    }
   ],
   "source": [
    "df = pd.DataFrame([180, 313, 101, 255, 202, 198, 109, 183, 181, 113, 171, 165, 318, 145, 131, 145, 226, 113, 268, 108])\n",
    "std = df[0].std(ddof=0)\n",
    "mean = df[0].mean()\n",
    "print(df - mean)"
   ]
  },
  {
   "cell_type": "code",
   "execution_count": null,
   "metadata": {},
   "outputs": [],
   "source": []
  }
 ],
 "metadata": {
  "kernelspec": {
   "display_name": "Python 3",
   "language": "python",
   "name": "python3"
  },
  "language_info": {
   "codemirror_mode": {
    "name": "ipython",
    "version": 3
   },
   "file_extension": ".py",
   "mimetype": "text/x-python",
   "name": "python",
   "nbconvert_exporter": "python",
   "pygments_lexer": "ipython3",
   "version": "3.6.8"
  }
 },
 "nbformat": 4,
 "nbformat_minor": 2
}
