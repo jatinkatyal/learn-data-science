{
 "cells": [
  {
   "cell_type": "code",
   "execution_count": 4,
   "metadata": {},
   "outputs": [
    {
     "ename": "SyntaxError",
     "evalue": "(unicode error) 'unicodeescape' codec can't decode bytes in position 5-6: truncated \\uXXXX escape (<ipython-input-4-281718b8dcd9>, line 2)",
     "output_type": "error",
     "traceback": [
      "\u001b[0;36m  File \u001b[0;32m\"<ipython-input-4-281718b8dcd9>\"\u001b[0;36m, line \u001b[0;32m2\u001b[0m\n\u001b[0;31m    path = '\\home\\users\\jatin'\u001b[0m\n\u001b[0m          ^\u001b[0m\n\u001b[0;31mSyntaxError\u001b[0m\u001b[0;31m:\u001b[0m (unicode error) 'unicodeescape' codec can't decode bytes in position 5-6: truncated \\uXXXX escape\n"
     ]
    }
   ],
   "source": [
    "#normal strings vs raw string\n",
    "path = '\\home\\users\\jatin'\n",
    "print('String:',path)"
   ]
  },
  {
   "cell_type": "code",
   "execution_count": 6,
   "metadata": {},
   "outputs": [
    {
     "name": "stdout",
     "output_type": "stream",
     "text": [
      "Raw String: \\home\\users\\jatin\n"
     ]
    }
   ],
   "source": [
    "path = r'\\home\\users\\jatin'\n",
    "print('Raw String:',path)"
   ]
  },
  {
   "cell_type": "markdown",
   "metadata": {},
   "source": [
    "re.match()"
   ]
  },
  {
   "cell_type": "code",
   "execution_count": 2,
   "metadata": {},
   "outputs": [
    {
     "name": "stdout",
     "output_type": "stream",
     "text": [
      "<_sre.SRE_Match object; span=(0, 9), match='Analytics'>\n"
     ]
    }
   ],
   "source": [
    "import re\n",
    "result = re.match('Analytics',r'Analytics Vidhya is largest data science community of India')\n",
    "print (result)"
   ]
  },
  {
   "cell_type": "code",
   "execution_count": 21,
   "metadata": {},
   "outputs": [
    {
     "name": "stdout",
     "output_type": "stream",
     "text": [
      "None\n"
     ]
    }
   ],
   "source": [
    "import re\n",
    "result2 = re.match('largest',r'Analytics Vidhya is largest data science community of India')\n",
    "print (result2)"
   ]
  },
  {
   "cell_type": "code",
   "execution_count": 19,
   "metadata": {},
   "outputs": [
    {
     "name": "stdout",
     "output_type": "stream",
     "text": [
      "Analytics\n"
     ]
    }
   ],
   "source": [
    "print(result.group())"
   ]
  },
  {
   "cell_type": "markdown",
   "metadata": {},
   "source": [
    "re.Search()"
   ]
  },
  {
   "cell_type": "code",
   "execution_count": 33,
   "metadata": {},
   "outputs": [
    {
     "name": "stdout",
     "output_type": "stream",
     "text": [
      "Analytics\n"
     ]
    }
   ],
   "source": [
    "result3 = re.search('Analytics',r'Analytics Vidhya is largest data science community of India')\n",
    "print (result3.group())"
   ]
  },
  {
   "cell_type": "markdown",
   "metadata": {},
   "source": [
    "re.find()"
   ]
  },
  {
   "cell_type": "code",
   "execution_count": 38,
   "metadata": {},
   "outputs": [
    {
     "name": "stdout",
     "output_type": "stream",
     "text": [
      "['Analytics']\n"
     ]
    }
   ],
   "source": [
    "result4 = re.findall('Analytics',r'Analytics Vidhya is largest data science community of India')\n",
    "print (result4)"
   ]
  },
  {
   "cell_type": "markdown",
   "metadata": {},
   "source": [
    "Special sequences"
   ]
  },
  {
   "cell_type": "markdown",
   "metadata": {},
   "source": [
    "\\b \\d \\D \\d+ \\D+ \\w \\W+"
   ]
  },
  {
   "cell_type": "code",
   "execution_count": 42,
   "metadata": {},
   "outputs": [
    {
     "name": "stdout",
     "output_type": "stream",
     "text": [
      "['est']\n"
     ]
    }
   ],
   "source": [
    "#ends with (\\b)\n",
    "x = re.findall(r'est\\b',r'Analytics Vidhya is largest data science community of India')\n",
    "print (x)"
   ]
  },
  {
   "cell_type": "code",
   "execution_count": 45,
   "metadata": {},
   "outputs": [
    {
     "name": "stdout",
     "output_type": "stream",
     "text": [
      "['2', '2', '0', '1', '9']\n"
     ]
    }
   ],
   "source": [
    "#digits (\\d)\n",
    "x = re.findall(r'\\d',r'Analytics Vidhya is largest data science community of India. Over 2 million visits in jan 2019.')\n",
    "print (x)"
   ]
  },
  {
   "cell_type": "code",
   "execution_count": 46,
   "metadata": {},
   "outputs": [
    {
     "name": "stdout",
     "output_type": "stream",
     "text": [
      "['2', '2019']\n"
     ]
    }
   ],
   "source": [
    "#digits (\\d+)\n",
    "x = re.findall(r'\\d+',r'Analytics Vidhya is largest data science community of India. Over 2 million visits in jan 2019.')\n",
    "print (x)"
   ]
  },
  {
   "cell_type": "code",
   "execution_count": 47,
   "metadata": {},
   "outputs": [
    {
     "name": "stdout",
     "output_type": "stream",
     "text": [
      "['A', 'n', 'a', 'l', 'y', 't', 'i', 'c', 's', ' ', 'V', 'i', 'd', 'h', 'y', 'a', ' ', 'i', 's', ' ', 'l', 'a', 'r', 'g', 'e', 's', 't', ' ', 'd', 'a', 't', 'a', ' ', 's', 'c', 'i', 'e', 'n', 'c', 'e', ' ', 'c', 'o', 'm', 'm', 'u', 'n', 'i', 't', 'y', ' ', 'o', 'f', ' ', 'I', 'n', 'd', 'i', 'a', '.', ' ', 'O', 'v', 'e', 'r', ' ', ' ', 'm', 'i', 'l', 'l', 'i', 'o', 'n', ' ', 'v', 'i', 's', 'i', 't', 's', ' ', 'i', 'n', ' ', 'j', 'a', 'n', ' ', '.']\n"
     ]
    }
   ],
   "source": [
    "# non digits (\\d+)\n",
    "x = re.findall(r'\\D',r'Analytics Vidhya is largest data science community of India. Over 2 million visits in jan 2019.')\n",
    "print (x)"
   ]
  },
  {
   "cell_type": "code",
   "execution_count": 49,
   "metadata": {},
   "outputs": [
    {
     "name": "stdout",
     "output_type": "stream",
     "text": [
      "['Analytics Vidhya is largest data science community of India. Over ', ' million visits in jan ', '.']\n"
     ]
    }
   ],
   "source": [
    "# non digits (\\D+)\n",
    "x = re.findall(r'\\D+',r'Analytics Vidhya is largest data science community of India. Over 2 million visits in jan 2019.')\n",
    "print (x)"
   ]
  },
  {
   "cell_type": "code",
   "execution_count": 50,
   "metadata": {},
   "outputs": [
    {
     "name": "stdout",
     "output_type": "stream",
     "text": [
      "['A', 'n', 'a', 'l', 'y', 't', 'i', 'c', 's', 'V', 'i', 'd', 'h', 'y', 'a', 'i', 's', 'l', 'a', 'r', 'g', 'e', 's', 't', 'd', 'a', 't', 'a', 's', 'c', 'i', 'e', 'n', 'c', 'e', 'c', 'o', 'm', 'm', 'u', 'n', 'i', 't', 'y', 'o', 'f', 'I', 'n', 'd', 'i', 'a', 'O', 'v', 'e', 'r', '2', 'm', 'i', 'l', 'l', 'i', 'o', 'n', 'v', 'i', 's', 'i', 't', 's', 'i', 'n', 'j', 'a', 'n', '2', '0', '1', '9']\n"
     ]
    }
   ],
   "source": [
    "# alpha numeric (\\w) [a-z,A-Z,0-9,_]\n",
    "x = re.findall(r'\\w',r'Analytics Vidhya is largest data science community of India. Over 2 million visits in jan 2019.')\n",
    "print (x)"
   ]
  },
  {
   "cell_type": "code",
   "execution_count": 51,
   "metadata": {},
   "outputs": [
    {
     "name": "stdout",
     "output_type": "stream",
     "text": [
      "['Analytics', 'Vidhya', 'is', 'largest', 'data', 'science', 'community', 'of', 'India', 'Over', '2', 'million', 'visits', 'in', 'jan', '2019']\n"
     ]
    }
   ],
   "source": [
    "# alpha numeric (\\w+) [a-z,A-Z,0-9,_]\n",
    "x = re.findall(r'\\w+',r'Analytics Vidhya is largest data science community of India. Over 2 million visits in jan 2019.')\n",
    "print (x)"
   ]
  },
  {
   "cell_type": "code",
   "execution_count": 54,
   "metadata": {},
   "outputs": [
    {
     "name": "stdout",
     "output_type": "stream",
     "text": [
      "[' ', ' ', ' ', ' ', ' ', ' ', ' ', ' ', '.', ' ', ' ', ' ', ' ', ' ', ' ', ' ', '.']\n"
     ]
    }
   ],
   "source": [
    "# non alpha numeric (\\W) [a-z,A-Z,0-9,_]\n",
    "x = re.findall(r'\\W',r'Analytics Vidhya is largest data science community of India. Over 2 million visits in jan 2019.')\n",
    "print (x)"
   ]
  },
  {
   "cell_type": "markdown",
   "metadata": {},
   "source": [
    "Metacharacters\n",
    ". ^ $ * + ? |\n"
   ]
  },
  {
   "cell_type": "code",
   "execution_count": 4,
   "metadata": {},
   "outputs": [
    {
     "name": "stdout",
     "output_type": "stream",
     "text": [
      "['rohan', 'rohit']\n"
     ]
    }
   ],
   "source": [
    "# Subsitute characters with '.'\n",
    "x = re.findall('ro...','rohan and rohit went on a trip to Goa')\n",
    "print(x)"
   ]
  },
  {
   "cell_type": "code",
   "execution_count": 9,
   "metadata": {},
   "outputs": [
    {
     "name": "stdout",
     "output_type": "stream",
     "text": [
      "['Data']\n"
     ]
    }
   ],
   "source": [
    "# Starts with\n",
    "x = re.findall('^Data','Data Science')\n",
    "print(x)"
   ]
  },
  {
   "cell_type": "code",
   "execution_count": 8,
   "metadata": {},
   "outputs": [
    {
     "name": "stdout",
     "output_type": "stream",
     "text": [
      "['Science']\n"
     ]
    }
   ],
   "source": [
    "# Ends with\n",
    "x = re.findall('Science$','Data Science')\n",
    "print(x)"
   ]
  },
  {
   "cell_type": "code",
   "execution_count": 10,
   "metadata": {},
   "outputs": [
    {
     "name": "stdout",
     "output_type": "stream",
     "text": [
      "['easy', 'eay', 'easssy']\n"
     ]
    }
   ],
   "source": [
    "# 0 or more occurences\n",
    "x = re.findall('eas*y','easy eay easssy ey')\n",
    "print(x)"
   ]
  },
  {
   "cell_type": "code",
   "execution_count": 11,
   "metadata": {},
   "outputs": [
    {
     "name": "stdout",
     "output_type": "stream",
     "text": [
      "['easy', 'easssy']\n"
     ]
    }
   ],
   "source": [
    "# 1 or more occurences\n",
    "x = re.findall('eas+y','easy eay easssy ey')\n",
    "print(x)"
   ]
  },
  {
   "cell_type": "code",
   "execution_count": 12,
   "metadata": {},
   "outputs": [
    {
     "name": "stdout",
     "output_type": "stream",
     "text": [
      "['easy', 'eay']\n"
     ]
    }
   ],
   "source": [
    "# 0 or 1 occurence\n",
    "x = re.findall('eas?y','easy eay easssy ey')\n",
    "print(x)"
   ]
  },
  {
   "cell_type": "markdown",
   "metadata": {},
   "source": [
    "Email Extraction"
   ]
  },
  {
   "cell_type": "code",
   "execution_count": 14,
   "metadata": {},
   "outputs": [
    {
     "name": "stdout",
     "output_type": "stream",
     "text": [
      "['jatin@gmail.com', 'jaytee96@yahoo.com', 'JT-KAT@gmail.com', 'Jaytee.Kat@gmail.com']\n"
     ]
    }
   ],
   "source": [
    "x = re.findall('[a-zA-Z0-9._-]+@\\w+\\.com','jatin@gmail.com jaytee96@yahoo.com JT-KAT@gmail.com Jaytee.Kat@gmail.com')\n",
    "print(x)"
   ]
  },
  {
   "cell_type": "markdown",
   "metadata": {},
   "source": [
    "Date Extraction\n"
   ]
  },
  {
   "cell_type": "code",
   "execution_count": 16,
   "metadata": {},
   "outputs": [
    {
     "name": "stdout",
     "output_type": "stream",
     "text": [
      "['10-11-1996']\n"
     ]
    }
   ],
   "source": [
    "x= re.findall('\\d{2}-\\d{2}-\\d{4}','77789-564-219 10-11-1996')\n",
    "print(x)"
   ]
  },
  {
   "cell_type": "code",
   "execution_count": null,
   "metadata": {},
   "outputs": [],
   "source": []
  }
 ],
 "metadata": {
  "kernelspec": {
   "display_name": "Python 3",
   "language": "python",
   "name": "python3"
  },
  "language_info": {
   "codemirror_mode": {
    "name": "ipython",
    "version": 3
   },
   "file_extension": ".py",
   "mimetype": "text/x-python",
   "name": "python",
   "nbconvert_exporter": "python",
   "pygments_lexer": "ipython3",
   "version": "3.6.8"
  }
 },
 "nbformat": 4,
 "nbformat_minor": 2
}
